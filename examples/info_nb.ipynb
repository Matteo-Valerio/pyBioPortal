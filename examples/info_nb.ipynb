{
 "cells": [
  {
   "cell_type": "code",
   "execution_count": 1,
   "metadata": {},
   "outputs": [
    {
     "data": {
      "text/html": [
       "<div>\n",
       "<style scoped>\n",
       "    .dataframe tbody tr th:only-of-type {\n",
       "        vertical-align: middle;\n",
       "    }\n",
       "\n",
       "    .dataframe tbody tr th {\n",
       "        vertical-align: top;\n",
       "    }\n",
       "\n",
       "    .dataframe thead th {\n",
       "        text-align: right;\n",
       "    }\n",
       "</style>\n",
       "<table border=\"1\" class=\"dataframe\">\n",
       "  <thead>\n",
       "    <tr style=\"text-align: right;\">\n",
       "      <th></th>\n",
       "      <th>portalVersion</th>\n",
       "      <th>dbVersion</th>\n",
       "      <th>gitBranch</th>\n",
       "      <th>gitCommitId</th>\n",
       "      <th>gitCommitIdDescribe</th>\n",
       "      <th>gitCommitIdDescribeShort</th>\n",
       "      <th>gitCommitMessageFull</th>\n",
       "      <th>gitCommitMessageShort</th>\n",
       "      <th>gitCommitMessageUserEmail</th>\n",
       "      <th>gitCommitMessageUserName</th>\n",
       "      <th>gitDirty</th>\n",
       "    </tr>\n",
       "  </thead>\n",
       "  <tbody>\n",
       "    <tr>\n",
       "      <th>0</th>\n",
       "      <td>5.4.7-dirty-SNAPSHOT</td>\n",
       "      <td>2.13.1</td>\n",
       "      <td>d4b06559c81a99911d620107113b2acf0e40523e</td>\n",
       "      <td>d4b06559c81a99911d620107113b2acf0e40523e</td>\n",
       "      <td>v5.4.7-dirty</td>\n",
       "      <td>v5.4.7-dirty</td>\n",
       "      <td>Merge pull request #10453 from cBioPortal/fron...</td>\n",
       "      <td>Merge pull request #10453 from cBioPortal/fron...</td>\n",
       "      <td>15748980+dippindots@users.noreply.github.com</td>\n",
       "      <td>Gaofei Zhao</td>\n",
       "      <td>True</td>\n",
       "    </tr>\n",
       "  </tbody>\n",
       "</table>\n",
       "</div>"
      ],
      "text/plain": [
       "          portalVersion dbVersion                                 gitBranch  \\\n",
       "0  5.4.7-dirty-SNAPSHOT    2.13.1  d4b06559c81a99911d620107113b2acf0e40523e   \n",
       "\n",
       "                                gitCommitId gitCommitIdDescribe  \\\n",
       "0  d4b06559c81a99911d620107113b2acf0e40523e        v5.4.7-dirty   \n",
       "\n",
       "  gitCommitIdDescribeShort                               gitCommitMessageFull  \\\n",
       "0             v5.4.7-dirty  Merge pull request #10453 from cBioPortal/fron...   \n",
       "\n",
       "                               gitCommitMessageShort  \\\n",
       "0  Merge pull request #10453 from cBioPortal/fron...   \n",
       "\n",
       "                      gitCommitMessageUserEmail gitCommitMessageUserName  \\\n",
       "0  15748980+dippindots@users.noreply.github.com              Gaofei Zhao   \n",
       "\n",
       "   gitDirty  \n",
       "0      True  "
      ]
     },
     "execution_count": 1,
     "metadata": {},
     "output_type": "execute_result"
    }
   ],
   "source": [
    "from pybioportal.info import get_info\n",
    "get_info()"
   ]
  },
  {
   "cell_type": "code",
   "execution_count": 2,
   "metadata": {},
   "outputs": [
    {
     "name": "stdout",
     "output_type": "stream",
     "text": [
      "portalVersion: 5.4.7-dirty-SNAPSHOT\n",
      "dbVersion: 2.13.1\n",
      "gitBranch: d4b06559c81a99911d620107113b2acf0e40523e\n",
      "gitCommitId: d4b06559c81a99911d620107113b2acf0e40523e\n",
      "gitCommitIdDescribe: v5.4.7-dirty\n",
      "gitCommitIdDescribeShort: v5.4.7-dirty\n",
      "gitCommitMessageFull: Merge pull request #10453 from cBioPortal/front...\n",
      "gitCommitMessageShort: Merge pull request #10453 from cBioPortal/front...\n",
      "gitCommitMessageUserEmail: 15748980+dippindots@users.noreply.github.com\n",
      "gitCommitMessageUserName: Gaofei Zhao\n",
      "gitDirty: True\n"
     ]
    }
   ],
   "source": [
    "df = get_info()\n",
    "for column in df.columns:\n",
    "    print(f'{column}: {df[column].to_string(index=False)}')\n"
   ]
  }
 ],
 "metadata": {
  "kernelspec": {
   "display_name": "python_tensorflow",
   "language": "python",
   "name": "python3"
  },
  "language_info": {
   "codemirror_mode": {
    "name": "ipython",
    "version": 3
   },
   "file_extension": ".py",
   "mimetype": "text/x-python",
   "name": "python",
   "nbconvert_exporter": "python",
   "pygments_lexer": "ipython3",
   "version": "3.10.12"
  }
 },
 "nbformat": 4,
 "nbformat_minor": 2
}
