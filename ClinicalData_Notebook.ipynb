{
 "cells": [
  {
   "cell_type": "code",
   "execution_count": 1,
   "metadata": {},
   "outputs": [],
   "source": [
    "from pyBioGate import clinical_data as cd"
   ]
  },
  {
   "cell_type": "code",
   "execution_count": null,
   "metadata": {},
   "outputs": [],
   "source": [
    "df1a = cd.fetch_clinical_data(attribute_ids=[\"SEX\", \"RACE\"], \n",
    "                              entity_study_ids=[\n",
    "                                      {\"entity_ids\": [\"P-0000004\", \"P-0000950\"], \"study\": \"msk_met_2021\"},\n",
    "                                      {\"entity_ids\": [\"TCGA-5T-A9QA\", \"TCGA-A1-A0SB\"], \"study\": \"brca_tcga\"}\n",
    "                              ], \n",
    "                              clinical_data_type=\"PATIENT\", ret_format=\"LONG\")\n",
    "df1a"
   ]
  },
  {
   "cell_type": "code",
   "execution_count": null,
   "metadata": {},
   "outputs": [],
   "source": [
    "df1b = cd.fetch_clinical_data(attribute_ids=[\"ORGAN_SYSTEM\", \"SUBTYPE\", \"CANCER_TYPE\", \"MUTATION_COUNT\"], \n",
    "                              entity_study_ids=[\n",
    "                                      {\"entity_ids\": [\"P-0000004-T01-IM3\", \"P-0000950-T01-IM3\"], \"study\": \"msk_met_2021\"},\n",
    "                                      {\"entity_ids\": [\"TCGA-5T-A9QA-01\", \"TCGA-A1-A0SB-01\"], \"study\": \"brca_tcga\"}\n",
    "                              ], \n",
    "                              clinical_data_type=\"SAMPLE\", ret_format=\"WIDE\")\n",
    "df1b"
   ]
  },
  {
   "cell_type": "code",
   "execution_count": null,
   "metadata": {},
   "outputs": [],
   "source": [
    "df2a = cd.get_all_clinical_data_in_study(\"acc_tcga\", clinical_data_type=\"PATIENT\")\n",
    "df2a"
   ]
  },
  {
   "cell_type": "code",
   "execution_count": null,
   "metadata": {},
   "outputs": [],
   "source": [
    "df2b = cd.get_all_clinical_data_in_study(\"brca_tcga\", attribute_id=\"MUTATION_COUNT\")\n",
    "df2b"
   ]
  },
  {
   "cell_type": "code",
   "execution_count": null,
   "metadata": {},
   "outputs": [],
   "source": [
    "df3a = cd.fetch_all_clinical_data_in_study(study_id=\"brca_tcga\", \n",
    "                                           attribute_ids=[\"SEX\", \"RACE\"],\n",
    "                                           ids=[\"TCGA-5T-A9QA\", \"TCGA-A1-A0SB\"],\n",
    "                                           clinical_data_type=\"PATIENT\", ret_format=\"LONG\")\n",
    "df3a"
   ]
  },
  {
   "cell_type": "code",
   "execution_count": null,
   "metadata": {},
   "outputs": [],
   "source": [
    "\n",
    "df3b = cd.fetch_all_clinical_data_in_study(study_id=\"brca_tcga\",                                            \n",
    "                                           ids=[\"TCGA-5T-A9QA\", \"TCGA-A1-A0SB\"],\n",
    "                                           clinical_data_type=\"PATIENT\", ret_format=\"WIDE\")\n",
    "df3b"
   ]
  },
  {
   "cell_type": "code",
   "execution_count": null,
   "metadata": {},
   "outputs": [],
   "source": [
    "\n",
    "df3c = cd.fetch_all_clinical_data_in_study(study_id=\"msk_met_2021\", \n",
    "                                           attribute_ids=[\"CANCER_TYPE\", \"MUTATION_COUNT\"], \n",
    "                                           ids=[\"P-0000004-T01-IM3\", \"P-0000950-T01-IM3\"],\n",
    "                                           clinical_data_type=\"SAMPLE\", ret_format=\"WIDE\")\n",
    "df3c"
   ]
  },
  {
   "cell_type": "code",
   "execution_count": null,
   "metadata": {},
   "outputs": [],
   "source": [
    "df4 = cd.get_all_clinical_data_of_patient_in_study(study_id=\"brca_tcga\", patient_id=\"TCGA-5T-A9QA\")\n",
    "df4"
   ]
  },
  {
   "cell_type": "code",
   "execution_count": null,
   "metadata": {},
   "outputs": [],
   "source": [
    "df5 = cd.get_all_clinical_data_of_sample_in_study(study_id=\"msk_met_2021\", sample_id=\"P-0000004-T01-IM3\")\n",
    "df5"
   ]
  }
 ],
 "metadata": {
  "kernelspec": {
   "display_name": "Python 3",
   "language": "python",
   "name": "python3"
  },
  "language_info": {
   "codemirror_mode": {
    "name": "ipython",
    "version": 3
   },
   "file_extension": ".py",
   "mimetype": "text/x-python",
   "name": "python",
   "nbconvert_exporter": "python",
   "pygments_lexer": "ipython3",
   "version": "3.11.4"
  }
 },
 "nbformat": 4,
 "nbformat_minor": 2
}
