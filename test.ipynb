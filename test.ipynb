{
 "cells": [
  {
   "cell_type": "markdown",
   "metadata": {},
   "source": [
    "Cancer_Types"
   ]
  },
  {
   "cell_type": "code",
   "execution_count": null,
   "metadata": {},
   "outputs": [],
   "source": [
    "import Cancer_Types.cancer_types as ct\n",
    "\n",
    "test1 = ct.get_all_cancer_types()\n",
    "test2 = ct.get_cancer_type(cancer_type_id='brca')"
   ]
  },
  {
   "cell_type": "markdown",
   "metadata": {},
   "source": [
    "Clinical_Attributes"
   ]
  },
  {
   "cell_type": "code",
   "execution_count": null,
   "metadata": {},
   "outputs": [],
   "source": [
    "import Clinical_Attributes.clinical_attributes as ca\n",
    "\n",
    "test1 = ca.get_all_clinical_attributes()\n",
    "test2 = ca.fetch_clinical_attributes(study_ids=['brca_tcga', 'brca_bccrc'])\n",
    "test3 = ca.get_all_clinical_attributes_in_study(study_id='brca_tcga', projection='META')\n",
    "test4 = ca.get_clinical_attribute_in_study(study_id='brca_tcga', clinical_attribute_id='AGE')"
   ]
  },
  {
   "cell_type": "markdown",
   "metadata": {},
   "source": [
    "Clinical_Data"
   ]
  },
  {
   "cell_type": "code",
   "execution_count": null,
   "metadata": {},
   "outputs": [],
   "source": [
    "import Clinical_Data.clinical_data as cd"
   ]
  },
  {
   "cell_type": "code",
   "execution_count": null,
   "metadata": {},
   "outputs": [],
   "source": [
    "test1a = cd.fetch_clinical_data(attribute_ids=[\"SEX\", \"RACE\"], \n",
    "                                entity_study_ids=[\n",
    "                                        {\"entity_ids\": [\"P-0000004\", \"P-0000950\"], \"study\": \"msk_met_2021\"},\n",
    "                                        {\"entity_ids\": [\"TCGA-5T-A9QA\", \"TCGA-A1-A0SB\"], \"study\": \"brca_tcga\"}\n",
    "                                ], \n",
    "                                clinical_data_type='PATIENT', ret_format='LONG')\n",
    "\n",
    "test1b = cd.fetch_clinical_data(attribute_ids=[\"ORGAN_SYSTEM\", \"SUBTYPE\", \"CANCER_TYPE\", \"MUTATION_COUNT\"], \n",
    "                                entity_study_ids=[\n",
    "                                        {\"entity_ids\": [\"P-0000004-T01-IM3\", \"P-0000950-T01-IM3\"], \"study\": \"msk_met_2021\"},\n",
    "                                        {\"entity_ids\": [\"TCGA-5T-A9QA-01\", \"TCGA-A1-A0SB-01\"], \"study\": \"brca_tcga\"}\n",
    "                                ], \n",
    "                                clinical_data_type='SAMPLE', ret_format='WIDE')"
   ]
  },
  {
   "cell_type": "code",
   "execution_count": null,
   "metadata": {},
   "outputs": [],
   "source": [
    "test2a = cd.get_all_clinical_data_in_study('acc_tcga', clinical_data_type='PATIENT')\n",
    "test2b = cd.get_all_clinical_data_in_study('brca_tcga', attribute_id='MUTATION_COUNT')"
   ]
  },
  {
   "cell_type": "code",
   "execution_count": null,
   "metadata": {},
   "outputs": [],
   "source": [
    "test3a = cd.fetch_all_clinical_data_in_study(study_id='brca_tcga', \n",
    "                                             attribute_ids=[\"SEX\", \"RACE\"],\n",
    "                                             ids=[\"TCGA-5T-A9QA\", \"TCGA-A1-A0SB\"],\n",
    "                                             clinical_data_type='PATIENT', ret_format='LONG')\n",
    "\n",
    "test3b = cd.fetch_all_clinical_data_in_study(study_id='msk_met_2021', \n",
    "                                             attribute_ids=[\"CANCER_TYPE\", \"MUTATION_COUNT\"], \n",
    "                                             ids=[\"P-0000004-T01-IM3\", \"P-0000950-T01-IM3\"],\n",
    "                                             clinical_data_type='SAMPLE', ret_format='WIDE')"
   ]
  },
  {
   "cell_type": "code",
   "execution_count": null,
   "metadata": {},
   "outputs": [],
   "source": [
    "test4 = cd.get_all_clinical_data_of_patient_in_study(study_id=\"brca_tcga\", patient_id=\"TCGA-5T-A9QA\")\n",
    "test5 = cd.get_all_clinical_data_of_sample_in_study(study_id=\"msk_met_2021\", sample_id=\"P-0000004-T01-IM3\")"
   ]
  },
  {
   "cell_type": "markdown",
   "metadata": {},
   "source": [
    "Copy_Number_Segments"
   ]
  },
  {
   "cell_type": "code",
   "execution_count": null,
   "metadata": {},
   "outputs": [],
   "source": [
    "import Copy_Number_Segments.copy_number_segment as cns"
   ]
  },
  {
   "cell_type": "code",
   "execution_count": null,
   "metadata": {},
   "outputs": [],
   "source": [
    "test1a = cns.fetch_copy_number_segments(sample_study_ids=[\n",
    "                                              {\"sample_ids\": [\"P-0000004-T01-IM3\", \"P-0000950-T01-IM3\"],  \"study_id\": \"msk_met_2021\"},\n",
    "                                              {\"sample_ids\": [\"TCGA-5T-A9QA-01\", \"TCGA-A1-A0SB-01\"], \"study_id\": \"brca_tcga\"}\n",
    "                                        ])\n",
    "test1b = cns.fetch_copy_number_segments(sample_study_ids=[\n",
    "                                              {\"sample_ids\": [\"P-0000004-T01-IM3\", \"P-0000950-T01-IM3\"],  \"study_id\": \"msk_met_2021\"},\n",
    "                                              {\"sample_ids\": [\"TCGA-5T-A9QA-01\", \"TCGA-A1-A0SB-01\"], \"study_id\": \"brca_tcga\"}\n",
    "                                        ], chromosome='5')"
   ]
  },
  {
   "cell_type": "code",
   "execution_count": null,
   "metadata": {},
   "outputs": [],
   "source": [
    "test2 = cns.get_copy_number_segments_in_sample_in_study(study_id='msk_met_2021', sample_id='P-0000950-T01-IM3')"
   ]
  },
  {
   "cell_type": "markdown",
   "metadata": {},
   "source": [
    "Discrete_Copy_Number_Alterations"
   ]
  },
  {
   "cell_type": "code",
   "execution_count": null,
   "metadata": {},
   "outputs": [],
   "source": [
    "import Discrete_Copy_Number_Alterations.discrete_copy_number_alterations as dcna"
   ]
  },
  {
   "cell_type": "code",
   "execution_count": null,
   "metadata": {},
   "outputs": [],
   "source": [
    "test1 = dcna.get_discrete_copy_numbers_in_molecular_profile(molecular_profile_id='brca_tcga_gistic', \n",
    "                                                            sample_list_id='brca_tcga_all', projection='SUMMARY')"
   ]
  },
  {
   "cell_type": "code",
   "execution_count": null,
   "metadata": {},
   "outputs": [],
   "source": [
    "test2a = dcna.fetch_discrete_copy_numbers_in_molecular_profile(molecular_profile_id='brca_tcga_gistic', \n",
    "                                                               entrez_gene_ids=[2023,4853,54940], \n",
    "                                                               sample_ids=[\"TCGA-AR-A1AR-01\", \"TCGA-E2-A1BC-01\"])\n",
    "test2b = dcna.fetch_discrete_copy_numbers_in_molecular_profile(molecular_profile_id='brca_tcga_gistic', \n",
    "                                                               entrez_gene_ids=[2023,4853,54940], \n",
    "                                                               sample_list_id='brca_tcga_all')\n",
    "test2c = dcna.fetch_discrete_copy_numbers_in_molecular_profile(molecular_profile_id='brca_tcga_gistic', \n",
    "                                                               sample_list_id='brca_tcga_all')"
   ]
  },
  {
   "cell_type": "markdown",
   "metadata": {},
   "source": [
    "Gene_Panel_Data"
   ]
  },
  {
   "cell_type": "code",
   "execution_count": null,
   "metadata": {},
   "outputs": [],
   "source": [
    "import Gene_Panel_Data.gene_panel_data as gpd"
   ]
  },
  {
   "cell_type": "code",
   "execution_count": null,
   "metadata": {},
   "outputs": [],
   "source": [
    "test1a = gpd.fetch_gene_panel_data(molecular_profile_ids=[\"brca_tcga_gistic\", \"acc_tcga_gistic\", \"brca_tcga_mutations\"])\n",
    "\n",
    "test1b = gpd.fetch_gene_panel_data(molecular_prof_sample_ids=[\n",
    "                                            {\"molecular_profile_id\": \"brca_tcga_gistic\",  \"sample_ids\": [\"TCGA-AR-A1AR-01\", \"TCGA-E2-A1BC-01\"]},\n",
    "                                            {\"molecular_profile_id\": \"brca_tcga_mutations\", \"sample_ids\": [\"TCGA-AR-A1AR-01\", \"TCGA-E2-A1BC-01\"]},\n",
    "                                            {\"molecular_profile_id\": \"msk_met_2021_mutations\", \"sample_ids\": [\"P-0000004-T01-IM3\", \"P-0000950-T01-IM3\"]}\n",
    "                                  ])"
   ]
  },
  {
   "cell_type": "code",
   "execution_count": null,
   "metadata": {},
   "outputs": [],
   "source": [
    "test2a = gpd.get_gene_panel_data(\"brca_tcga_mutations\",sample_ids=[\"TCGA-AR-A1AR-01\", \"TCGA-E2-A1BC-01\"])\n",
    "test2b = gpd.get_gene_panel_data(\"brca_tcga_mutations\", sample_list_id=\"brca_tcga_all\")"
   ]
  },
  {
   "cell_type": "markdown",
   "metadata": {},
   "source": [
    "Gene_Panels"
   ]
  },
  {
   "cell_type": "code",
   "execution_count": null,
   "metadata": {},
   "outputs": [],
   "source": [
    "import Gene_Panels.gene_panels as gp"
   ]
  },
  {
   "cell_type": "code",
   "execution_count": null,
   "metadata": {},
   "outputs": [],
   "source": [
    "test1 = gp.get_all_gene_panels()\n",
    "test2 = gp.get_gene_panel(\"NSCLC_UNITO_2016_PANEL\")\n",
    "test3 = gp.fetch_gene_panels(gene_panel_ids=[\"NSCLC_UNITO_2016_PANEL\", \"bcc_unige_2016_cancer_panel\"], projection=\"DETAILED\")"
   ]
  },
  {
   "cell_type": "markdown",
   "metadata": {},
   "source": [
    "Generic_Assay_Data"
   ]
  },
  {
   "cell_type": "code",
   "execution_count": null,
   "metadata": {},
   "outputs": [],
   "source": [
    "import Generic_Assay_Data.generic_assay_data as gad"
   ]
  },
  {
   "cell_type": "code",
   "execution_count": null,
   "metadata": {},
   "outputs": [],
   "source": [
    "test1a = gad.fetch_generic_assay_data_in_molecular_profile(molecular_profile_id=\"brca_tcga_phosphoprotein_quantification\", \n",
    "                                                          generic_assay_stable_ids = [\"TULP4_pS563\", \"TEP1_pS397\"],\n",
    "                                                          sample_ids = [\"TCGA-C8-A130-01\", \"TCGA-C8-A134-01\"])\n",
    "test1b = gad.fetch_generic_assay_data_in_molecular_profile(molecular_profile_id=\"brca_tcga_phosphoprotein_quantification\", \n",
    "                                                          generic_assay_stable_ids = [\"TULP4_pS563\", \"TEP1_pS397\"],\n",
    "                                                          sample_list_id = \"brca_tcga_all\")                                                    "
   ]
  },
  {
   "cell_type": "code",
   "execution_count": null,
   "metadata": {},
   "outputs": [],
   "source": [
    "test2a = gad.fetch_generic_assay_data(generic_assay_stable_ids=[\"TULP4_pS563\", \"TEP1_pS397\", \"ALAD_214_215_1_1_S215\"],\n",
    "                                      molecular_profile_ids=[\"brca_tcga_phosphoprotein_quantification\",\"brain_cptac_2020_phosphoprotein\"])\n",
    "test2b = gad.fetch_generic_assay_data(generic_assay_stable_ids=[\"TULP4_pS563\", \"TEP1_pS397\", \"ALAD_214_215_1_1_S215\"],                            \n",
    "                                      sample_molecular_identifiers=[\n",
    "                                                        {\"molecular_profile_id\": \"brca_tcga_phosphoprotein_quantification\",  \n",
    "                                                         \"sample_ids\": [\"TCGA-C8-A130-01\", \"TCGA-C8-A134-01\"]},\n",
    "                                                        {\"molecular_profile_id\": \"brain_cptac_2020_phosphoprotein\", \n",
    "                                                         \"sample_ids\": [\"7316-101\", \"7316-109\"]}\n",
    "                                                        ])\n",
    "test2c = gad.fetch_generic_assay_data(sample_molecular_identifiers=[\n",
    "                                                        {\"molecular_profile_id\": \"brca_tcga_phosphoprotein_quantification\",  \n",
    "                                                         \"sample_ids\": [\"TCGA-C8-A130-01\", \"TCGA-C8-A134-01\"]},\n",
    "                                                        {\"molecular_profile_id\": \"brain_cptac_2020_phosphoprotein\", \n",
    "                                                         \"sample_ids\": [\"7316-101\", \"7316-109\"]}\n",
    "                                                        ])                                                                           "
   ]
  },
  {
   "cell_type": "code",
   "execution_count": null,
   "metadata": {},
   "outputs": [],
   "source": [
    "test3 = gad.get_generic_assay_data_in_molecular_profile(molecular_profile_id = \"brca_tcga_phosphoprotein_quantification\", \n",
    "                                                        generic_assay_stable_id = \"TULP4_pS563\")"
   ]
  },
  {
   "cell_type": "markdown",
   "metadata": {},
   "source": [
    "Generic_Assays"
   ]
  },
  {
   "cell_type": "code",
   "execution_count": 1,
   "metadata": {},
   "outputs": [],
   "source": [
    "import Generic_Assays.generic_assays as ga"
   ]
  },
  {
   "cell_type": "code",
   "execution_count": 4,
   "metadata": {},
   "outputs": [],
   "source": [
    "test1a = ga.fetch_generic_assay_meta(generic_assay_stable_ids=[\"TULP4_pS563\", \"TEP1_pS397\", \"ALAD_214_215_1_1_S215\"])\n",
    "test1b = ga.fetch_generic_assay_meta(molecular_profile_ids=[\"brca_tcga_phosphoprotein_quantification\",\"brain_cptac_2020_phosphoprotein\"])                                                                        "
   ]
  },
  {
   "cell_type": "code",
   "execution_count": 2,
   "metadata": {},
   "outputs": [],
   "source": [
    "test2 = ga.get_generic_assay_meta_by_molecular_profile_id(\"brca_tcga_phosphoprotein_quantification\")\n",
    "test3 = ga.get_generic_assay_meta_by_id(\"TULP4_pS563\")"
   ]
  }
 ],
 "metadata": {
  "kernelspec": {
   "display_name": "python_tensorflow",
   "language": "python",
   "name": "python3"
  },
  "language_info": {
   "codemirror_mode": {
    "name": "ipython",
    "version": 3
   },
   "file_extension": ".py",
   "mimetype": "text/x-python",
   "name": "python",
   "nbconvert_exporter": "python",
   "pygments_lexer": "ipython3",
   "version": "3.10.12"
  }
 },
 "nbformat": 4,
 "nbformat_minor": 2
}
