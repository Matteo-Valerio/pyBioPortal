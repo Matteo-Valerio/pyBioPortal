{
 "cells": [
  {
   "cell_type": "code",
   "execution_count": null,
   "metadata": {},
   "outputs": [],
   "source": [
    "import Cancer_Types.cancer_types as ct"
   ]
  },
  {
   "cell_type": "code",
   "execution_count": null,
   "metadata": {},
   "outputs": [],
   "source": [
    "test1 = ct.get_all_cancer_types()\n",
    "test2 = ct.get_cancer_type(cancer_type_id='brca')"
   ]
  },
  {
   "cell_type": "code",
   "execution_count": null,
   "metadata": {},
   "outputs": [],
   "source": [
    "import Clinical_Attributes.clinical_attributes as ca"
   ]
  },
  {
   "cell_type": "code",
   "execution_count": null,
   "metadata": {},
   "outputs": [],
   "source": [
    "test3 = ca.get_all_clinical_attributes()\n",
    "test4 = ca.fetch_clinical_attributes(study_ids=['brca_tcga', 'brca_bccrc'])\n",
    "test5 = ca.get_all_clinical_attributes_in_study(study_id='brca_tcga', projection='META')\n",
    "test6 = ca.get_clinical_attribute_in_study(study_id='brca_tcga', clinical_attribute_id='AGE')"
   ]
  },
  {
   "cell_type": "code",
   "execution_count": 1,
   "metadata": {},
   "outputs": [],
   "source": [
    "import Clinical_Data.clinical_data as cd"
   ]
  },
  {
   "cell_type": "code",
   "execution_count": 3,
   "metadata": {},
   "outputs": [],
   "source": [
    "attribute_ids=[\"SEX\", \"RACE\"]\n",
    "entity_study_ids = [\n",
    "    {\"entity_ids\": [\"P-0000004\", \"P-0000950\"], \"study\": \"msk_met_2021\"},\n",
    "    {\"entity_ids\": [\"TCGA-5T-A9QA\", \"TCGA-A1-A0SB\"], \"study\": \"brca_tcga\"}\n",
    "]\n",
    "\n",
    "test7a = cd.fetch_clinical_data(attribute_ids=attribute_ids, entity_study_ids=entity_study_ids, clinical_data_type='PATIENT', ret_format='WIDE')\n",
    "\n",
    "attribute_ids=[\"ORGAN_SYSTEM\", \"SUBTYPE\", \"CANCER_TYPE\", \"MUTATION_COUNT\"]\n",
    "entity_study_ids = [\n",
    "    {\"entity_ids\": [\"P-0000004-T01-IM3\", \"P-0000950-T01-IM3\"], \"study\": \"msk_met_2021\"},\n",
    "    {\"entity_ids\": [\"TCGA-5T-A9QA-01\", \"TCGA-A1-A0SB-01\"], \"study\": \"brca_tcga\"}\n",
    "]\n",
    "\n",
    "test7b = cd.fetch_clinical_data(attribute_ids=attribute_ids, entity_study_ids=entity_study_ids, clinical_data_type='SAMPLE', ret_format='WIDE')"
   ]
  }
 ],
 "metadata": {
  "kernelspec": {
   "display_name": "python_tensorflow",
   "language": "python",
   "name": "python3"
  },
  "language_info": {
   "codemirror_mode": {
    "name": "ipython",
    "version": 3
   },
   "file_extension": ".py",
   "mimetype": "text/x-python",
   "name": "python",
   "nbconvert_exporter": "python",
   "pygments_lexer": "ipython3",
   "version": "3.9.2"
  }
 },
 "nbformat": 4,
 "nbformat_minor": 2
}
