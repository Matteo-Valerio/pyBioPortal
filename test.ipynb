{
 "cells": [
  {
   "cell_type": "code",
   "execution_count": null,
   "metadata": {},
   "outputs": [],
   "source": [
    "import Cancer_Types.cancer_types as ct"
   ]
  },
  {
   "cell_type": "code",
   "execution_count": null,
   "metadata": {},
   "outputs": [],
   "source": [
    "test1 = ct.get_all_cancer_types()\n",
    "test2 = ct.get_cancer_type(cancer_type_id='brca')"
   ]
  },
  {
   "cell_type": "code",
   "execution_count": null,
   "metadata": {},
   "outputs": [],
   "source": [
    "import Clinical_Attributes.clinical_attributes as ca"
   ]
  },
  {
   "cell_type": "code",
   "execution_count": null,
   "metadata": {},
   "outputs": [],
   "source": [
    "test3 = ca.get_all_clinical_attributes()\n",
    "test4 = ca.fetch_clinical_attributes(study_ids=['brca_tcga', 'brca_bccrc'])\n",
    "test5 = ca.get_all_clinical_attributes_in_study(study_id='brca_tcga', projection='META')\n",
    "test6 = ca.get_clinical_attribute_in_study(study_id='brca_tcga', clinical_attribute_id='AGE')"
   ]
  },
  {
   "cell_type": "code",
   "execution_count": 1,
   "metadata": {},
   "outputs": [],
   "source": [
    "import Clinical_Data.clinical_data as cd"
   ]
  },
  {
   "cell_type": "code",
   "execution_count": 2,
   "metadata": {},
   "outputs": [],
   "source": [
    "par = {\n",
    "  \"attributeIds\": [\n",
    "    \"ORGAN_SYSTEM\"\n",
    "  ],\n",
    "  \"identifiers\": [\n",
    "    {\n",
    "      \"entityId\": \"P-0000004-T01-IM3\",\n",
    "      \"studyId\": \"msk_met_2021\"\n",
    "    }\n",
    "  ]\n",
    "}\n",
    "test7 = cd.fetch_clinical_data(par)"
   ]
  }
 ],
 "metadata": {
  "kernelspec": {
   "display_name": "python_tensorflow",
   "language": "python",
   "name": "python3"
  },
  "language_info": {
   "codemirror_mode": {
    "name": "ipython",
    "version": 3
   },
   "file_extension": ".py",
   "mimetype": "text/x-python",
   "name": "python",
   "nbconvert_exporter": "python",
   "pygments_lexer": "ipython3",
   "version": "3.10.12"
  }
 },
 "nbformat": 4,
 "nbformat_minor": 2
}
