{
 "cells": [
  {
   "cell_type": "markdown",
   "metadata": {},
   "source": [
    "Cancer_Types"
   ]
  },
  {
   "cell_type": "code",
   "execution_count": null,
   "metadata": {},
   "outputs": [],
   "source": [
    "import Cancer_Types.cancer_types as ct\n",
    "\n",
    "test1 = ct.get_all_cancer_types()\n",
    "test2 = ct.get_cancer_type(cancer_type_id='brca')"
   ]
  },
  {
   "cell_type": "markdown",
   "metadata": {},
   "source": [
    "Clinical_Attributes"
   ]
  },
  {
   "cell_type": "code",
   "execution_count": null,
   "metadata": {},
   "outputs": [],
   "source": [
    "import Clinical_Attributes.clinical_attributes as ca\n",
    "\n",
    "test1 = ca.get_all_clinical_attributes()\n",
    "test2 = ca.fetch_clinical_attributes(study_ids=['brca_tcga', 'brca_bccrc'])\n",
    "test3 = ca.get_all_clinical_attributes_in_study(study_id='brca_tcga', projection='META')\n",
    "test4 = ca.get_clinical_attribute_in_study(study_id='brca_tcga', clinical_attribute_id='AGE')"
   ]
  },
  {
   "cell_type": "markdown",
   "metadata": {},
   "source": [
    "Clinical_Data"
   ]
  },
  {
   "cell_type": "code",
   "execution_count": 2,
   "metadata": {},
   "outputs": [],
   "source": [
    "import Clinical_Data.clinical_data as cd\n",
    "\n",
    "attribute_ids=[\"SEX\", \"RACE\"]\n",
    "entity_study_ids = [\n",
    "    {\"entity_ids\": [\"P-0000004\", \"P-0000950\"], \"study\": \"msk_met_2021\"},\n",
    "    {\"entity_ids\": [\"TCGA-5T-A9QA\", \"TCGA-A1-A0SB\"], \"study\": \"brca_tcga\"}\n",
    "]\n",
    "\n",
    "test1a = cd.fetch_clinical_data(attribute_ids=attribute_ids, entity_study_ids=entity_study_ids, clinical_data_type='PATIENT', ret_format='LONG')\n",
    "\n",
    "attribute_ids=[\"ORGAN_SYSTEM\", \"SUBTYPE\", \"CANCER_TYPE\", \"MUTATION_COUNT\"]\n",
    "entity_study_ids = [\n",
    "    {\"entity_ids\": [\"P-0000004-T01-IM3\", \"P-0000950-T01-IM3\"], \"study\": \"msk_met_2021\"},\n",
    "    {\"entity_ids\": [\"TCGA-5T-A9QA-01\", \"TCGA-A1-A0SB-01\"], \"study\": \"brca_tcga\"}\n",
    "]\n",
    "\n",
    "test1b = cd.fetch_clinical_data(attribute_ids=attribute_ids, entity_study_ids=entity_study_ids, clinical_data_type='SAMPLE', ret_format='WIDE')"
   ]
  },
  {
   "cell_type": "code",
   "execution_count": null,
   "metadata": {},
   "outputs": [],
   "source": [
    "test2a = cd.get_all_clinical_data_in_study('brca_tcga',)\n",
    "test2b = cd.get_all_clinical_data_in_study('brca_tcga', attribute_id='MUTATION_COUNT')"
   ]
  },
  {
   "cell_type": "code",
   "execution_count": 3,
   "metadata": {},
   "outputs": [],
   "source": [
    "test3a = cd.fetch_all_clinical_data_in_study(study_id='brca_tcga', \n",
    "                                            attribute_ids=[\"SEX\", \"RACE\"],\n",
    "                                            ids=[\"TCGA-5T-A9QA\", \"TCGA-A1-A0SB\"],\n",
    "                                            clinical_data_type='PATIENT', ret_format='LONG')\n",
    "\n",
    "test3b = cd.fetch_all_clinical_data_in_study(study_id='msk_met_2021', \n",
    "                                            attribute_ids=[\"CANCER_TYPE\", \"MUTATION_COUNT\"], \n",
    "                                            ids=[\"P-0000004-T01-IM3\", \"P-0000950-T01-IM3\"],\n",
    "                                            clinical_data_type='SAMPLE', ret_format='WIDE')"
   ]
  },
  {
   "cell_type": "code",
   "execution_count": 8,
   "metadata": {},
   "outputs": [],
   "source": [
    "test4 = cd.get_all_clinical_data_of_patient_in_study(study_id=\"brca_tcga\", patient_id=\"TCGA-5T-A9QA\")\n",
    "test5 = cd.get_all_clinical_data_of_sample_in_study(study_id=\"msk_met_2021\", sample_id=\"P-0000004-T01-IM3\")"
   ]
  },
  {
   "cell_type": "markdown",
   "metadata": {},
   "source": [
    "Copy_Number_Segments"
   ]
  },
  {
   "cell_type": "code",
   "execution_count": 1,
   "metadata": {},
   "outputs": [],
   "source": [
    "import Copy_Number_Segments.copy_number_segment as cns"
   ]
  },
  {
   "cell_type": "code",
   "execution_count": null,
   "metadata": {},
   "outputs": [],
   "source": [
    "test1 = cns.fetch_copy_number_segments()"
   ]
  }
 ],
 "metadata": {
  "kernelspec": {
   "display_name": "python_tensorflow",
   "language": "python",
   "name": "python3"
  },
  "language_info": {
   "codemirror_mode": {
    "name": "ipython",
    "version": 3
   },
   "file_extension": ".py",
   "mimetype": "text/x-python",
   "name": "python",
   "nbconvert_exporter": "python",
   "pygments_lexer": "ipython3",
   "version": "3.9.2"
  }
 },
 "nbformat": 4,
 "nbformat_minor": 2
}
