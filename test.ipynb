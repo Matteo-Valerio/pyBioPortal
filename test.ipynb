{
 "cells": [
  {
   "cell_type": "markdown",
   "metadata": {},
   "source": [
    "Cancer_Types"
   ]
  },
  {
   "cell_type": "code",
   "execution_count": null,
   "metadata": {},
   "outputs": [],
   "source": [
    "from pyBioGate import cancer_types as ct\n",
    "\n",
    "test1 = ct.get_all_cancer_types()\n",
    "test2 = ct.get_cancer_type(cancer_type_id=\"brca\")"
   ]
  },
  {
   "cell_type": "markdown",
   "metadata": {},
   "source": [
    "Clinical_Attributes"
   ]
  },
  {
   "cell_type": "code",
   "execution_count": null,
   "metadata": {},
   "outputs": [],
   "source": [
    "from pyBioGate import clinical_attributes as ca\n",
    "\n",
    "test1 = ca.get_all_clinical_attributes()\n",
    "test2 = ca.fetch_clinical_attributes(study_ids=[\"brca_tcga\", \"brca_bccrc\"])\n",
    "test3 = ca.get_all_clinical_attributes_in_study(study_id=\"brca_tcga\", projection=\"META\")\n",
    "test4 = ca.get_clinical_attribute_in_study(study_id=\"brca_tcga\", clinical_attribute_id=\"AGE\")"
   ]
  },
  {
   "cell_type": "markdown",
   "metadata": {},
   "source": [
    "Clinical_Data"
   ]
  },
  {
   "cell_type": "code",
   "execution_count": null,
   "metadata": {},
   "outputs": [],
   "source": [
    "from pyBioGate import clinical_data as cd"
   ]
  },
  {
   "cell_type": "code",
   "execution_count": null,
   "metadata": {},
   "outputs": [],
   "source": [
    "test1a = cd.fetch_clinical_data(attribute_ids=[\"SEX\", \"RACE\"], \n",
    "                                entity_study_ids=[\n",
    "                                        {\"entity_ids\": [\"P-0000004\", \"P-0000950\"], \"study\": \"msk_met_2021\"},\n",
    "                                        {\"entity_ids\": [\"TCGA-5T-A9QA\", \"TCGA-A1-A0SB\"], \"study\": \"brca_tcga\"}\n",
    "                                ], \n",
    "                                clinical_data_type='PATIENT', ret_format='LONG')\n",
    "\n",
    "test1b = cd.fetch_clinical_data(attribute_ids=[\"ORGAN_SYSTEM\", \"SUBTYPE\", \"CANCER_TYPE\", \"MUTATION_COUNT\"], \n",
    "                                entity_study_ids=[\n",
    "                                        {\"entity_ids\": [\"P-0000004-T01-IM3\", \"P-0000950-T01-IM3\"], \"study\": \"msk_met_2021\"},\n",
    "                                        {\"entity_ids\": [\"TCGA-5T-A9QA-01\", \"TCGA-A1-A0SB-01\"], \"study\": \"brca_tcga\"}\n",
    "                                ], \n",
    "                                clinical_data_type='SAMPLE', ret_format='WIDE')"
   ]
  },
  {
   "cell_type": "code",
   "execution_count": null,
   "metadata": {},
   "outputs": [],
   "source": [
    "test2a = cd.get_all_clinical_data_in_study('acc_tcga', clinical_data_type='PATIENT')\n",
    "test2b = cd.get_all_clinical_data_in_study('brca_tcga', attribute_id='MUTATION_COUNT')"
   ]
  },
  {
   "cell_type": "code",
   "execution_count": null,
   "metadata": {},
   "outputs": [],
   "source": [
    "test3a = cd.fetch_all_clinical_data_in_study(study_id='brca_tcga', \n",
    "                                             attribute_ids=[\"SEX\", \"RACE\"],\n",
    "                                             ids=[\"TCGA-5T-A9QA\", \"TCGA-A1-A0SB\"],\n",
    "                                             clinical_data_type='PATIENT', ret_format='LONG')\n",
    "\n",
    "test3b = cd.fetch_all_clinical_data_in_study(study_id='brca_tcga',                                            \n",
    "                                             ids=[\"TCGA-5T-A9QA\", \"TCGA-A1-A0SB\"],\n",
    "                                             clinical_data_type='PATIENT', ret_format='WIDE')\n",
    "\n",
    "test3c = cd.fetch_all_clinical_data_in_study(study_id='msk_met_2021', \n",
    "                                             attribute_ids=[\"CANCER_TYPE\", \"MUTATION_COUNT\"], \n",
    "                                             ids=[\"P-0000004-T01-IM3\", \"P-0000950-T01-IM3\"],\n",
    "                                             clinical_data_type='SAMPLE', ret_format='WIDE')"
   ]
  },
  {
   "cell_type": "code",
   "execution_count": null,
   "metadata": {},
   "outputs": [],
   "source": [
    "test4 = cd.get_all_clinical_data_of_patient_in_study(study_id=\"brca_tcga\", patient_id=\"TCGA-5T-A9QA\")\n",
    "test5 = cd.get_all_clinical_data_of_sample_in_study(study_id=\"msk_met_2021\", sample_id=\"P-0000004-T01-IM3\")"
   ]
  },
  {
   "cell_type": "markdown",
   "metadata": {},
   "source": [
    "Copy_Number_Segments"
   ]
  },
  {
   "cell_type": "code",
   "execution_count": null,
   "metadata": {},
   "outputs": [],
   "source": [
    "from pyBioGate import copy_number_segment as cns"
   ]
  },
  {
   "cell_type": "code",
   "execution_count": null,
   "metadata": {},
   "outputs": [],
   "source": [
    "test1a = cns.fetch_copy_number_segments(sample_study_ids=[\n",
    "                                              {\"sample_ids\": [\"P-0000004-T01-IM3\", \"P-0000950-T01-IM3\"],  \"study_id\": \"msk_met_2021\"},\n",
    "                                              {\"sample_ids\": [\"TCGA-5T-A9QA-01\", \"TCGA-A1-A0SB-01\"], \"study_id\": \"brca_tcga\"}\n",
    "                                        ])\n",
    "test1b = cns.fetch_copy_number_segments(sample_study_ids=[\n",
    "                                              {\"sample_ids\": [\"P-0000004-T01-IM3\", \"P-0000950-T01-IM3\"],  \"study_id\": \"msk_met_2021\"},\n",
    "                                              {\"sample_ids\": [\"TCGA-5T-A9QA-01\", \"TCGA-A1-A0SB-01\"], \"study_id\": \"brca_tcga\"}\n",
    "                                        ], chromosome='5')"
   ]
  },
  {
   "cell_type": "code",
   "execution_count": null,
   "metadata": {},
   "outputs": [],
   "source": [
    "test2 = cns.get_copy_number_segments_in_sample_in_study(study_id='msk_met_2021', sample_id='P-0000950-T01-IM3')"
   ]
  },
  {
   "cell_type": "markdown",
   "metadata": {},
   "source": [
    "Discrete_Copy_Number_Alterations"
   ]
  },
  {
   "cell_type": "code",
   "execution_count": null,
   "metadata": {},
   "outputs": [],
   "source": [
    "from pyBioGate import discrete_copy_number_alterations as dcna"
   ]
  },
  {
   "cell_type": "code",
   "execution_count": null,
   "metadata": {},
   "outputs": [],
   "source": [
    "test1 = dcna.get_discrete_copy_numbers_in_molecular_profile(molecular_profile_id='brca_tcga_gistic', \n",
    "                                                            sample_list_id='brca_tcga_all', projection='SUMMARY')"
   ]
  },
  {
   "cell_type": "code",
   "execution_count": null,
   "metadata": {},
   "outputs": [],
   "source": [
    "test2a = dcna.fetch_discrete_copy_numbers_in_molecular_profile(molecular_profile_id='brca_tcga_gistic', \n",
    "                                                               entrez_gene_ids=[2023,4853,54940], \n",
    "                                                               sample_ids=[\"TCGA-AR-A1AR-01\", \"TCGA-E2-A1BC-01\"])\n",
    "test2b = dcna.fetch_discrete_copy_numbers_in_molecular_profile(molecular_profile_id='brca_tcga_gistic', \n",
    "                                                               entrez_gene_ids=[2023,4853,54940], \n",
    "                                                               sample_list_id='brca_tcga_all')\n",
    "test2c = dcna.fetch_discrete_copy_numbers_in_molecular_profile(molecular_profile_id='brca_tcga_gistic', \n",
    "                                                               sample_list_id='brca_tcga_all')"
   ]
  },
  {
   "cell_type": "markdown",
   "metadata": {},
   "source": [
    "Gene_Panel_Data"
   ]
  },
  {
   "cell_type": "code",
   "execution_count": null,
   "metadata": {},
   "outputs": [],
   "source": [
    "from pyBioGate import gene_panel_data as gpd"
   ]
  },
  {
   "cell_type": "code",
   "execution_count": null,
   "metadata": {},
   "outputs": [],
   "source": [
    "test1a = gpd.fetch_gene_panel_data(molecular_profile_ids=[\"brca_tcga_gistic\", \"acc_tcga_gistic\", \"brca_tcga_mutations\"])\n",
    "\n",
    "test1b = gpd.fetch_gene_panel_data(molecular_prof_sample_ids=[\n",
    "                                            {\"molecular_profile_id\": \"brca_tcga_gistic\",\n",
    "                                             \"sample_ids\": [\"TCGA-AR-A1AR-01\", \"TCGA-E2-A1BC-01\"]},\n",
    "                                            {\"molecular_profile_id\": \"brca_tcga_mutations\",\n",
    "                                             \"sample_ids\": [\"TCGA-AR-A1AR-01\", \"TCGA-E2-A1BC-01\"]},\n",
    "                                            {\"molecular_profile_id\": \"msk_met_2021_mutations\",\n",
    "                                             \"sample_ids\": [\"P-0000004-T01-IM3\", \"P-0000950-T01-IM3\"]}\n",
    "                                  ])"
   ]
  },
  {
   "cell_type": "code",
   "execution_count": null,
   "metadata": {},
   "outputs": [],
   "source": [
    "test2a = gpd.fetch_gene_panel_data_in_molecular_profile(\"brca_tcga_mutations\",sample_ids=[\"TCGA-AR-A1AR-01\", \"TCGA-E2-A1BC-01\"])\n",
    "test2b = gpd.fetch_gene_panel_data_in_molecular_profile(\"brca_tcga_mutations\", sample_list_id=\"brca_tcga_all\")"
   ]
  },
  {
   "cell_type": "markdown",
   "metadata": {},
   "source": [
    "Gene_Panels"
   ]
  },
  {
   "cell_type": "code",
   "execution_count": null,
   "metadata": {},
   "outputs": [],
   "source": [
    "from pyBioGate import gene_panels as gp"
   ]
  },
  {
   "cell_type": "code",
   "execution_count": null,
   "metadata": {},
   "outputs": [],
   "source": [
    "test1 = gp.get_all_gene_panels()\n",
    "test2 = gp.get_gene_panel(\"NSCLC_UNITO_2016_PANEL\")\n",
    "test3 = gp.fetch_gene_panels(gene_panel_ids=[\"NSCLC_UNITO_2016_PANEL\", \"bcc_unige_2016_cancer_panel\"], projection=\"DETAILED\")"
   ]
  },
  {
   "cell_type": "markdown",
   "metadata": {},
   "source": [
    "Generic_Assay_Data"
   ]
  },
  {
   "cell_type": "code",
   "execution_count": null,
   "metadata": {},
   "outputs": [],
   "source": [
    "from pyBioGate import generic_assay_data as gad"
   ]
  },
  {
   "cell_type": "code",
   "execution_count": null,
   "metadata": {},
   "outputs": [],
   "source": [
    "test1a = gad.fetch_generic_assay_data_in_molecular_profile(molecular_profile_id=\"brca_tcga_phosphoprotein_quantification\", \n",
    "                                                          generic_assay_stable_ids = [\"TULP4_pS563\", \"TEP1_pS397\"],\n",
    "                                                          sample_ids = [\"TCGA-C8-A130-01\", \"TCGA-C8-A134-01\"])\n",
    "test1b = gad.fetch_generic_assay_data_in_molecular_profile(molecular_profile_id=\"brca_tcga_phosphoprotein_quantification\", \n",
    "                                                          generic_assay_stable_ids = [\"TULP4_pS563\", \"TEP1_pS397\"],\n",
    "                                                          sample_list_id = \"brca_tcga_all\")                                                    "
   ]
  },
  {
   "cell_type": "code",
   "execution_count": null,
   "metadata": {},
   "outputs": [],
   "source": [
    "test2a = gad.fetch_generic_assay_data(generic_assay_stable_ids=[\"TULP4_pS563\", \"TEP1_pS397\", \"ALAD_214_215_1_1_S215\"],\n",
    "                                      molecular_profile_ids=[\"brca_tcga_phosphoprotein_quantification\",\"brain_cptac_2020_phosphoprotein\"])\n",
    "test2b = gad.fetch_generic_assay_data(generic_assay_stable_ids=[\"TULP4_pS563\", \"TEP1_pS397\", \"ALAD_214_215_1_1_S215\"],                            \n",
    "                                      sample_molecular_identifiers=[\n",
    "                                                        {\"molecular_profile_id\": \"brca_tcga_phosphoprotein_quantification\",  \n",
    "                                                         \"sample_ids\": [\"TCGA-C8-A130-01\", \"TCGA-C8-A134-01\"]},\n",
    "                                                        {\"molecular_profile_id\": \"brain_cptac_2020_phosphoprotein\", \n",
    "                                                         \"sample_ids\": [\"7316-101\", \"7316-109\"]}\n",
    "                                                        ])\n",
    "test2c = gad.fetch_generic_assay_data(sample_molecular_identifiers=[\n",
    "                                                        {\"molecular_profile_id\": \"brca_tcga_phosphoprotein_quantification\",  \n",
    "                                                         \"sample_ids\": [\"TCGA-C8-A130-01\", \"TCGA-C8-A134-01\"]},\n",
    "                                                        {\"molecular_profile_id\": \"brain_cptac_2020_phosphoprotein\", \n",
    "                                                         \"sample_ids\": [\"7316-101\", \"7316-109\"]}\n",
    "                                                        ])                                                                           "
   ]
  },
  {
   "cell_type": "code",
   "execution_count": null,
   "metadata": {},
   "outputs": [],
   "source": [
    "test3 = gad.get_generic_assay_data_in_molecular_profile(molecular_profile_id = \"brca_tcga_phosphoprotein_quantification\", \n",
    "                                                        generic_assay_stable_id = \"TULP4_pS563\")"
   ]
  },
  {
   "cell_type": "markdown",
   "metadata": {},
   "source": [
    "Generic_Assays"
   ]
  },
  {
   "cell_type": "code",
   "execution_count": null,
   "metadata": {},
   "outputs": [],
   "source": [
    "from pyBioGate import generic_assays as ga"
   ]
  },
  {
   "cell_type": "code",
   "execution_count": null,
   "metadata": {},
   "outputs": [],
   "source": [
    "test1a = ga.fetch_generic_assay_meta(generic_assay_stable_ids=[\"TULP4_pS563\", \"TEP1_pS397\", \"ALAD_214_215_1_1_S215\"])\n",
    "test1b = ga.fetch_generic_assay_meta(molecular_profile_ids=[\"brca_tcga_phosphoprotein_quantification\",\"brain_cptac_2020_phosphoprotein\"])"
   ]
  },
  {
   "cell_type": "code",
   "execution_count": null,
   "metadata": {},
   "outputs": [],
   "source": [
    "test2 = ga.get_generic_assay_meta_by_molecular_profile_id(\"brca_tcga_phosphoprotein_quantification\")\n",
    "test3 = ga.get_generic_assay_meta_by_id(\"TULP4_pS563\")"
   ]
  },
  {
   "cell_type": "markdown",
   "metadata": {},
   "source": [
    "Genes"
   ]
  },
  {
   "cell_type": "code",
   "execution_count": 1,
   "metadata": {},
   "outputs": [],
   "source": [
    "from pyBioGate import genes as gns"
   ]
  },
  {
   "cell_type": "code",
   "execution_count": 2,
   "metadata": {},
   "outputs": [],
   "source": [
    "test1a = gns.get_all_genes(keyword = \"BRCA1\")\n",
    "test1b = gns.get_all_genes(alias = \"FANCS\")\n",
    "test2 = gns.get_gene(\"BRCA1\")\n",
    "test3 = gns.get_aliases_of_gene(\"BRCA2\")\n",
    "test4 = gns.fetch_genes(gene_ids=[\"BRCA1\",\"BRCA2\"], gene_id_type = \"HUGO_GENE_SYMBOL\")"
   ]
  },
  {
   "cell_type": "markdown",
   "metadata": {},
   "source": [
    "Info"
   ]
  },
  {
   "cell_type": "code",
   "execution_count": 1,
   "metadata": {},
   "outputs": [
    {
     "data": {
      "text/html": [
       "<div>\n",
       "<style scoped>\n",
       "    .dataframe tbody tr th:only-of-type {\n",
       "        vertical-align: middle;\n",
       "    }\n",
       "\n",
       "    .dataframe tbody tr th {\n",
       "        vertical-align: top;\n",
       "    }\n",
       "\n",
       "    .dataframe thead th {\n",
       "        text-align: right;\n",
       "    }\n",
       "</style>\n",
       "<table border=\"1\" class=\"dataframe\">\n",
       "  <thead>\n",
       "    <tr style=\"text-align: right;\">\n",
       "      <th></th>\n",
       "      <th>portalVersion</th>\n",
       "      <th>dbVersion</th>\n",
       "      <th>gitBranch</th>\n",
       "      <th>gitCommitId</th>\n",
       "      <th>gitCommitIdDescribe</th>\n",
       "      <th>gitCommitIdDescribeShort</th>\n",
       "      <th>gitCommitMessageFull</th>\n",
       "      <th>gitCommitMessageShort</th>\n",
       "      <th>gitCommitMessageUserEmail</th>\n",
       "      <th>gitCommitMessageUserName</th>\n",
       "      <th>gitDirty</th>\n",
       "    </tr>\n",
       "  </thead>\n",
       "  <tbody>\n",
       "    <tr>\n",
       "      <th>0</th>\n",
       "      <td>5.4.7-dirty-SNAPSHOT</td>\n",
       "      <td>2.13.1</td>\n",
       "      <td>d4b06559c81a99911d620107113b2acf0e40523e</td>\n",
       "      <td>d4b06559c81a99911d620107113b2acf0e40523e</td>\n",
       "      <td>v5.4.7-dirty</td>\n",
       "      <td>v5.4.7-dirty</td>\n",
       "      <td>Merge pull request #10453 from cBioPortal/fron...</td>\n",
       "      <td>Merge pull request #10453 from cBioPortal/fron...</td>\n",
       "      <td>15748980+dippindots@users.noreply.github.com</td>\n",
       "      <td>Gaofei Zhao</td>\n",
       "      <td>True</td>\n",
       "    </tr>\n",
       "  </tbody>\n",
       "</table>\n",
       "</div>"
      ],
      "text/plain": [
       "          portalVersion dbVersion                                 gitBranch  \\\n",
       "0  5.4.7-dirty-SNAPSHOT    2.13.1  d4b06559c81a99911d620107113b2acf0e40523e   \n",
       "\n",
       "                                gitCommitId gitCommitIdDescribe  \\\n",
       "0  d4b06559c81a99911d620107113b2acf0e40523e        v5.4.7-dirty   \n",
       "\n",
       "  gitCommitIdDescribeShort                               gitCommitMessageFull  \\\n",
       "0             v5.4.7-dirty  Merge pull request #10453 from cBioPortal/fron...   \n",
       "\n",
       "                               gitCommitMessageShort  \\\n",
       "0  Merge pull request #10453 from cBioPortal/fron...   \n",
       "\n",
       "                      gitCommitMessageUserEmail gitCommitMessageUserName  \\\n",
       "0  15748980+dippindots@users.noreply.github.com              Gaofei Zhao   \n",
       "\n",
       "   gitDirty  \n",
       "0      True  "
      ]
     },
     "execution_count": 1,
     "metadata": {},
     "output_type": "execute_result"
    }
   ],
   "source": [
    "from pyBioGate.info import get_info\n",
    "get_info()"
   ]
  },
  {
   "cell_type": "markdown",
   "metadata": {},
   "source": [
    "Molecular_Data"
   ]
  },
  {
   "cell_type": "code",
   "execution_count": 1,
   "metadata": {},
   "outputs": [],
   "source": [
    "from pyBioGate import molecular_data as md"
   ]
  },
  {
   "cell_type": "code",
   "execution_count": 2,
   "metadata": {},
   "outputs": [],
   "source": [
    "test1a = md.fetch_molecular_data(entrez_gene_ids=[\"672\",\"675\"], molecular_profile_ids=[\"brca_tcga_mrna\", \"acc_tcga_rna_seq_v2_mrna\"])\n",
    "test1b = md.fetch_molecular_data(entrez_gene_ids=[\"672\",\"675\"],\n",
    "                                 sample_molecular_identifiers=[\n",
    "                                           {\"molecular_profile_id\": \"brca_tcga_mrna\", \n",
    "                                            \"sample_ids\": [\"TCGA-AR-A1AR-01\",\"TCGA-BH-A1EO-01\"]},\n",
    "                                           {\"molecular_profile_id\": \"acc_tcga_rna_seq_v2_mrna\", \n",
    "                                            \"sample_ids\": [\"TCGA-OR-A5J1-01\",\"TCGA-OR-A5J2\"]}\n",
    "                                           ])"
   ]
  },
  {
   "cell_type": "code",
   "execution_count": 3,
   "metadata": {},
   "outputs": [],
   "source": [
    "test2 = md.get_all_molecular_data_in_molecular_profile(molecular_profile_id=\"brca_tcga_rppa\", \n",
    "                                                       sample_list_id=\"brca_tcga_all\", \n",
    "                                                       entrez_gene_id=\"675\")"
   ]
  },
  {
   "cell_type": "code",
   "execution_count": 4,
   "metadata": {},
   "outputs": [],
   "source": [
    "test3 = md.fetch_all_molecular_data_in_molecular_profile(molecular_profile_id = \"brca_tcga_rppa\",\n",
    "                                                         entrez_gene_ids = [\"672\",\"675\"],\n",
    "                                                         sample_ids = [\"TCGA-AR-A1AR-01\",\"TCGA-BH-A1EO-01\"])"
   ]
  },
  {
   "cell_type": "markdown",
   "metadata": {},
   "source": [
    "Molecular_Profiles"
   ]
  },
  {
   "cell_type": "code",
   "execution_count": null,
   "metadata": {},
   "outputs": [],
   "source": [
    "import Molecular_Profiles.molecular_profiles as mf"
   ]
  },
  {
   "cell_type": "code",
   "execution_count": null,
   "metadata": {},
   "outputs": [],
   "source": [
    "test1 = mf.get_all_molecular_profiles()\n",
    "test2 = mf.get_molecular_profile(\"gbm_tcga_pan_can_atlas_2018_armlevel_cna\")"
   ]
  },
  {
   "cell_type": "code",
   "execution_count": null,
   "metadata": {},
   "outputs": [],
   "source": [
    "test3a = mf.fetch_molecular_profiles(molecular_profile_ids=[\"brca_tcga_mrna\", \"acc_tcga_rna_seq_v2_mrna\"])\n",
    "test3b = mf.fetch_molecular_profiles(study_ids=[\"brca_tcga\", \"acc_tcga\"])"
   ]
  },
  {
   "cell_type": "code",
   "execution_count": null,
   "metadata": {},
   "outputs": [],
   "source": [
    "test4 = mf.get_all_molecular_profiles_in_study(study_id=\"brca_tcga\", sortBy='description')"
   ]
  },
  {
   "cell_type": "markdown",
   "metadata": {},
   "source": [
    "Mutations"
   ]
  },
  {
   "cell_type": "code",
   "execution_count": null,
   "metadata": {},
   "outputs": [],
   "source": [
    "import Mutations.mutations as mts"
   ]
  },
  {
   "cell_type": "code",
   "execution_count": null,
   "metadata": {},
   "outputs": [],
   "source": [
    "test1 = mts.get_mutations_in_molecular_profile_by_sample_list_id(molecular_profile_id=\"brca_tcga_mutations\", \n",
    "                                                                 sample_list_id=\"brca_tcga_all\", \n",
    "                                                                 entrez_gene_id=\"672\")"
   ]
  },
  {
   "cell_type": "code",
   "execution_count": null,
   "metadata": {},
   "outputs": [],
   "source": [
    "test2a = mts.fetch_mutations_in_molecular_profile(molecular_profile_id=\"brca_tcga_mutations\", \n",
    "                                                  entrez_gene_ids=[\"1005\", \"1020\"],\n",
    "                                                  sample_ids = [\"TCGA-AR-A1AR-01\",\"TCGA-BH-A1EO-01\"])                                                 \n",
    "test2b = mts.fetch_mutations_in_molecular_profile(molecular_profile_id=\"brca_tcga_mutations\", \n",
    "                                                  entrez_gene_ids=[\"1005\", \"1020\"],\n",
    "                                                  sample_list_id=\"brca_tcga_all\")                                                 "
   ]
  },
  {
   "cell_type": "code",
   "execution_count": null,
   "metadata": {},
   "outputs": [],
   "source": [
    "test3a = mts.fetch_mutations_in_multiple_molecular_profiles(entrez_gene_ids=[\"672\",\"675\"], \n",
    "                                                            molecular_profile_ids=[\"brca_tcga_mutations\", \"acc_tcga_mutations\"])\n",
    "test3b = mts.fetch_mutations_in_multiple_molecular_profiles(entrez_gene_ids=[\"672\",\"675\"], \n",
    "                                                            sample_molecular_identifiers=[\n",
    "                                                                        {\"molecular_profile_id\": \"brca_tcga_mutations\", \n",
    "                                                                         \"sample_ids\": [\"TCGA-A2-A4S0-01\",\"TCGA-E2-A1L9-01\"]},\n",
    "                                                                        {\"molecular_profile_id\": \"acc_tcga_mutations\", \n",
    "                                                                         \"sample_ids\": [\"TCGA-OR-A5LE-01\"]}\n",
    "                                                                        ])                                                        "
   ]
  },
  {
   "cell_type": "markdown",
   "metadata": {},
   "source": [
    "Patients"
   ]
  },
  {
   "cell_type": "code",
   "execution_count": null,
   "metadata": {},
   "outputs": [],
   "source": [
    "import Patients.patients as pts"
   ]
  },
  {
   "cell_type": "code",
   "execution_count": null,
   "metadata": {},
   "outputs": [],
   "source": [
    "test1 = pts.get_all_patients(keyword='TCGA')"
   ]
  },
  {
   "cell_type": "code",
   "execution_count": null,
   "metadata": {},
   "outputs": [],
   "source": [
    "test2a = pts.fetch_patients(patient_identifiers=[\n",
    "                                                {\"patient_ids\": ['TCGA-3C-AAAU','TCGA-3C-AALI'], \n",
    "                                                 \"study_id\": \"brca_tcga\"},\n",
    "                                                {\"patient_ids\": ['TCGA-A1-A0SB','TCGA-A1-A0SD'], \n",
    "                                                 \"study_id\": \"brca_tcga_pub\"}\n",
    "                                                ])\n",
    "test2b = pts.fetch_patients(unique_patient_keys=['VENHQS0zQy1BQUFVOmJyY2FfdGNnYQ', \n",
    "                                                 'VENHQS1BMS1BMFNEOmJyY2FfdGNnYV9wdWI'], projection='DETAILED')                                                           "
   ]
  },
  {
   "cell_type": "code",
   "execution_count": null,
   "metadata": {},
   "outputs": [],
   "source": [
    "test3 = pts.get_all_patients_in_study(study_id='brca_tcga', projection='DETAILED')\n",
    "test4 = pts.get_patient_in_study(patient_id='TCGA-3C-AAAU', study_id='brca_tcga')"
   ]
  },
  {
   "cell_type": "markdown",
   "metadata": {},
   "source": [
    "Sample_Lists"
   ]
  },
  {
   "cell_type": "code",
   "execution_count": null,
   "metadata": {},
   "outputs": [],
   "source": [
    "import Sample_Lists.sample_lists as sl"
   ]
  },
  {
   "cell_type": "code",
   "execution_count": null,
   "metadata": {},
   "outputs": [],
   "source": [
    "test1 = sl.get_all_sample_lists(projection='DETAILED')\n",
    "test2 = sl.get_sample_list(sample_list_id='brca_tcga_cna')\n",
    "test3 = sl.get_all_sample_ids_in_sample_list(sample_list_id='brca_tcga_cna')\n",
    "test4 = sl.fetch_sample_lists(sample_list_ids=['brca_tcga_cna', 'brca_tcga_mrna'], projection='DETAILED')\n",
    "test5 = sl.get_all_sample_lists_in_study(study_id='brca_tcga',projection='DETAILED')"
   ]
  },
  {
   "cell_type": "markdown",
   "metadata": {},
   "source": [
    "Samples"
   ]
  },
  {
   "cell_type": "code",
   "execution_count": null,
   "metadata": {},
   "outputs": [],
   "source": [
    "import Samples.samples as sp"
   ]
  },
  {
   "cell_type": "code",
   "execution_count": null,
   "metadata": {},
   "outputs": [],
   "source": [
    "test1 = sp.get_samples_by_keyword(keyword=\"TCGA\")"
   ]
  },
  {
   "cell_type": "code",
   "execution_count": null,
   "metadata": {},
   "outputs": [],
   "source": [
    "test2a = sp.fetch_samples(sample_identifiers=[\n",
    "                                            {\"sample_ids\": ['TCGA-AR-A1AR-01','TCGA-BH-A1EO-01','TCGA-BH-A1ES-01'], \n",
    "                                             \"study_id\": \"brca_tcga\"},\n",
    "                                            {\"sample_ids\": ['TCGA-A2-A0T2-01','TCGA-A2-A04P-01'], \n",
    "                                             \"study_id\": \"brca_tcga_pub\"}\n",
    "                                            ])\n",
    "\n",
    "test2b = sp.fetch_samples(sample_list_ids=['brca_tcga_cna', 'brca_tcga_mrna', 'brca_tcga_pub_cna'])\n",
    "\n",
    "test2c = sp.fetch_samples(unique_sample_keys=['VENHQS1BUi1BMUFSLTAxOmJyY2FfdGNnYQ',\n",
    "                                             'VENHQS1CNi1BMElRLTAxOmJyY2FfdGNnYV9wdWI',\n",
    "                                             'VENHQS1CSC1BMUZELTAxOmJyY2FfdGNnYQ'])\n"
   ]
  },
  {
   "cell_type": "code",
   "execution_count": null,
   "metadata": {},
   "outputs": [],
   "source": [
    "test3 = sp.get_all_samples_of_patient_in_study(study_id='brca_tcga', patient_id='TCGA-AR-A1AR')"
   ]
  },
  {
   "cell_type": "code",
   "execution_count": null,
   "metadata": {},
   "outputs": [],
   "source": [
    "test4 = sp.get_all_samples_in_study(study_id='brca_tcga')"
   ]
  },
  {
   "cell_type": "code",
   "execution_count": null,
   "metadata": {},
   "outputs": [],
   "source": [
    "test5 = sp.get_sample_in_study(study_id='brca_tcga',sample_id='TCGA-AR-A1AR-01')"
   ]
  },
  {
   "cell_type": "markdown",
   "metadata": {},
   "source": [
    "Server_running_status"
   ]
  },
  {
   "cell_type": "code",
   "execution_count": null,
   "metadata": {},
   "outputs": [],
   "source": [
    "import Server_running_status.server_running_status as srs"
   ]
  },
  {
   "cell_type": "code",
   "execution_count": null,
   "metadata": {},
   "outputs": [],
   "source": [
    "srs.get_server_status()"
   ]
  },
  {
   "cell_type": "markdown",
   "metadata": {},
   "source": [
    "Studies"
   ]
  },
  {
   "cell_type": "code",
   "execution_count": null,
   "metadata": {},
   "outputs": [],
   "source": [
    "import Studies.studies as std"
   ]
  },
  {
   "cell_type": "code",
   "execution_count": null,
   "metadata": {},
   "outputs": [],
   "source": [
    "test1 = std.get_all_studies(keyword='TCGA', projection='DETAILED')"
   ]
  },
  {
   "cell_type": "code",
   "execution_count": null,
   "metadata": {},
   "outputs": [],
   "source": [
    "test2 = std.get_study(study_id='brca_tcga')"
   ]
  },
  {
   "cell_type": "code",
   "execution_count": null,
   "metadata": {},
   "outputs": [],
   "source": [
    "test3 = std.get_tags_of_study(study_id='bowel_colitis_msk_2022')"
   ]
  },
  {
   "cell_type": "code",
   "execution_count": null,
   "metadata": {},
   "outputs": [],
   "source": [
    "test4 = std.fetch_studies(study_ids=['brca_tcga','acc_tcga'], projection='DETAILED')"
   ]
  },
  {
   "cell_type": "code",
   "execution_count": null,
   "metadata": {},
   "outputs": [],
   "source": [
    "test5 = std.fetch_tags_for_studies(study_ids=['brca_tcga','acc_tcga'])"
   ]
  },
  {
   "cell_type": "markdown",
   "metadata": {},
   "source": [
    "Treatments"
   ]
  },
  {
   "cell_type": "code",
   "execution_count": null,
   "metadata": {},
   "outputs": [],
   "source": [
    "import Treatments.treatments as trt"
   ]
  },
  {
   "cell_type": "code",
   "execution_count": null,
   "metadata": {},
   "outputs": [],
   "source": [
    "import Studies.studies as std\n",
    "studies = std.get_all_studies(projection='DETAILED')\n",
    "std_ids = studies[\"studyId\"].to_list()"
   ]
  },
  {
   "cell_type": "code",
   "execution_count": null,
   "metadata": {},
   "outputs": [],
   "source": [
    "trt.should_display_patient_level_treatments(study_ids=std_ids)"
   ]
  },
  {
   "cell_type": "code",
   "execution_count": null,
   "metadata": {},
   "outputs": [],
   "source": [
    "trt.should_display_sample_level_treatments(study_ids=std_ids)"
   ]
  },
  {
   "cell_type": "code",
   "execution_count": null,
   "metadata": {},
   "outputs": [],
   "source": [
    "filter1a = {\"studyIds\": std_ids}\n",
    "test1a = trt.fetch_all_patient_level_treatments(study_view_filter=filter1a)\n",
    "\n",
    "filter1b = {\"patientTreatmentFilters\": {\n",
    "    \"filters\": [\n",
    "      {\n",
    "        \"filters\": [\n",
    "          {\n",
    "            \"treatment\": \"Palbociclib\"\n",
    "          }\n",
    "        ]\n",
    "      }\n",
    "    ]\n",
    "  },\n",
    "  \"studyIds\": std_ids}\n",
    "test1b = trt.fetch_all_patient_level_treatments(study_view_filter=filter1b)"
   ]
  },
  {
   "cell_type": "code",
   "execution_count": null,
   "metadata": {},
   "outputs": [],
   "source": [
    "filter2b = {\"sampleTreatmentFilters\": {\n",
    "    \"filters\": [\n",
    "      {\n",
    "        \"filters\": [\n",
    "          {\n",
    "            \"time\": \"Pre\",\n",
    "            \"treatment\": \"Palbociclib\"\n",
    "          },\n",
    "          {\n",
    "            \"time\": \"Post\",\n",
    "            \"treatment\": \"Palbociclib\"\n",
    "          }\n",
    "        ]\n",
    "      }\n",
    "    ]\n",
    "  },\n",
    "  \"studyIds\": std_ids}\n",
    "test2b = trt.fetch_all_sample_level_treatments(study_view_filter=filter2b)"
   ]
  }
 ],
 "metadata": {
  "kernelspec": {
   "display_name": "python_tensorflow",
   "language": "python",
   "name": "python3"
  },
  "language_info": {
   "codemirror_mode": {
    "name": "ipython",
    "version": 3
   },
   "file_extension": ".py",
   "mimetype": "text/x-python",
   "name": "python",
   "nbconvert_exporter": "python",
   "pygments_lexer": "ipython3",
   "version": "3.10.12"
  }
 },
 "nbformat": 4,
 "nbformat_minor": 2
}
