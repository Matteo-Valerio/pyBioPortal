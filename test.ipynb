{
 "cells": [
  {
   "cell_type": "markdown",
   "metadata": {},
   "source": [
    "Cancer_Types"
   ]
  },
  {
   "cell_type": "code",
   "execution_count": null,
   "metadata": {},
   "outputs": [],
   "source": [
    "import Cancer_Types.cancer_types as ct\n",
    "\n",
    "test1 = ct.get_all_cancer_types()\n",
    "test2 = ct.get_cancer_type(cancer_type_id='brca')"
   ]
  },
  {
   "cell_type": "markdown",
   "metadata": {},
   "source": [
    "Clinical_Attributes"
   ]
  },
  {
   "cell_type": "code",
   "execution_count": null,
   "metadata": {},
   "outputs": [],
   "source": [
    "import Clinical_Attributes.clinical_attributes as ca\n",
    "\n",
    "test1 = ca.get_all_clinical_attributes()\n",
    "test2 = ca.fetch_clinical_attributes(study_ids=['brca_tcga', 'brca_bccrc'])\n",
    "test3 = ca.get_all_clinical_attributes_in_study(study_id='brca_tcga', projection='META')\n",
    "test4 = ca.get_clinical_attribute_in_study(study_id='brca_tcga', clinical_attribute_id='AGE')"
   ]
  },
  {
   "cell_type": "markdown",
   "metadata": {},
   "source": [
    "Clinical_Data"
   ]
  },
  {
   "cell_type": "code",
   "execution_count": null,
   "metadata": {},
   "outputs": [],
   "source": [
    "import Clinical_Data.clinical_data as cd\n",
    "\n",
    "attribute_ids=[\"SEX\", \"RACE\"]\n",
    "entity_study_ids = [\n",
    "    {\"entity_ids\": [\"P-0000004\", \"P-0000950\"], \"study\": \"msk_met_2021\"},\n",
    "    {\"entity_ids\": [\"TCGA-5T-A9QA\", \"TCGA-A1-A0SB\"], \"study\": \"brca_tcga\"}\n",
    "]\n",
    "\n",
    "test1a = cd.fetch_clinical_data(attribute_ids=attribute_ids, entity_study_ids=entity_study_ids, clinical_data_type='PATIENT', ret_format='LONG')\n",
    "\n",
    "attribute_ids=[\"ORGAN_SYSTEM\", \"SUBTYPE\", \"CANCER_TYPE\", \"MUTATION_COUNT\"]\n",
    "entity_study_ids = [\n",
    "    {\"entity_ids\": [\"P-0000004-T01-IM3\", \"P-0000950-T01-IM3\"], \"study\": \"msk_met_2021\"},\n",
    "    {\"entity_ids\": [\"TCGA-5T-A9QA-01\", \"TCGA-A1-A0SB-01\"], \"study\": \"brca_tcga\"}\n",
    "]\n",
    "\n",
    "test1b = cd.fetch_clinical_data(attribute_ids=attribute_ids, entity_study_ids=entity_study_ids, clinical_data_type='SAMPLE', ret_format='WIDE')"
   ]
  },
  {
   "cell_type": "code",
   "execution_count": null,
   "metadata": {},
   "outputs": [],
   "source": [
    "test2a = cd.get_all_clinical_data_in_study('brca_tcga',)\n",
    "test2b = cd.get_all_clinical_data_in_study('brca_tcga', attribute_id='MUTATION_COUNT')"
   ]
  },
  {
   "cell_type": "code",
   "execution_count": null,
   "metadata": {},
   "outputs": [],
   "source": [
    "test3a = cd.fetch_all_clinical_data_in_study(study_id='brca_tcga', \n",
    "                                            attribute_ids=[\"SEX\", \"RACE\"],\n",
    "                                            ids=[\"TCGA-5T-A9QA\", \"TCGA-A1-A0SB\"],\n",
    "                                            clinical_data_type='PATIENT', ret_format='LONG')\n",
    "\n",
    "test3b = cd.fetch_all_clinical_data_in_study(study_id='msk_met_2021', \n",
    "                                            attribute_ids=[\"CANCER_TYPE\", \"MUTATION_COUNT\"], \n",
    "                                            ids=[\"P-0000004-T01-IM3\", \"P-0000950-T01-IM3\"],\n",
    "                                            clinical_data_type='SAMPLE', ret_format='WIDE')"
   ]
  },
  {
   "cell_type": "code",
   "execution_count": null,
   "metadata": {},
   "outputs": [],
   "source": [
    "test4 = cd.get_all_clinical_data_of_patient_in_study(study_id=\"brca_tcga\", patient_id=\"TCGA-5T-A9QA\")\n",
    "test5 = cd.get_all_clinical_data_of_sample_in_study(study_id=\"msk_met_2021\", sample_id=\"P-0000004-T01-IM3\")"
   ]
  },
  {
   "cell_type": "markdown",
   "metadata": {},
   "source": [
    "Copy_Number_Segments"
   ]
  },
  {
   "cell_type": "code",
   "execution_count": null,
   "metadata": {},
   "outputs": [],
   "source": [
    "import Copy_Number_Segments.copy_number_segment as cns"
   ]
  },
  {
   "cell_type": "code",
   "execution_count": null,
   "metadata": {},
   "outputs": [],
   "source": [
    "sample_study_ids = [\n",
    "  {\"sample_ids\": [\"P-0000004-T01-IM3\", \"P-0000950-T01-IM3\"],  \"study_id\": \"msk_met_2021\"},\n",
    "  {\"sample_ids\": [\"TCGA-5T-A9QA-01\", \"TCGA-A1-A0SB-01\"], \"study_id\": \"brca_tcga\"}\n",
    "]\n",
    "test1a = cns.fetch_copy_number_segments(sample_study_ids=sample_study_ids)\n",
    "test1b = cns.fetch_copy_number_segments(sample_study_ids=sample_study_ids, chromosome='5')"
   ]
  },
  {
   "cell_type": "code",
   "execution_count": null,
   "metadata": {},
   "outputs": [],
   "source": [
    "test2 = cns.get_copy_number_segments_in_sample_in_study(study_id='msk_met_2021', sample_id='P-0000950-T01-IM3')"
   ]
  },
  {
   "cell_type": "code",
   "execution_count": 1,
   "metadata": {},
   "outputs": [],
   "source": [
    "import Discrete_Copy_Number_Alterations.discrete_copy_number_alterations as dcna"
   ]
  },
  {
   "cell_type": "code",
   "execution_count": null,
   "metadata": {},
   "outputs": [],
   "source": [
    "test1 = dcna.get_discrete_copy_numbers_in_molecular_profile(molecular_profile_id='brca_tcga_gistic', sample_list_id='brca_tcga_all', projection='SUMMARY')"
   ]
  },
  {
   "cell_type": "code",
   "execution_count": 3,
   "metadata": {},
   "outputs": [],
   "source": [
    "test2a = dcna.fetch_discrete_copy_numbers_in_molecular_profile(molecular_profile_id='brca_tcga_gistic', \n",
    "                                                               entrez_gene_ids=[2023,4853,54940], \n",
    "                                                               sample_ids=[\"TCGA-AR-A1AR-01\", \"TCGA-E2-A1BC-01\"])\n",
    "test2b = dcna.fetch_discrete_copy_numbers_in_molecular_profile(molecular_profile_id='brca_tcga_gistic', \n",
    "                                                               entrez_gene_ids=[2023,4853,54940], \n",
    "                                                               sample_list_id='brca_tcga_all')\n",
    "test2c = dcna.fetch_discrete_copy_numbers_in_molecular_profile(molecular_profile_id='brca_tcga_gistic', \n",
    "                                                               sample_list_id='brca_tcga_all')"
   ]
  },
  {
   "cell_type": "code",
   "execution_count": 2,
   "metadata": {},
   "outputs": [],
   "source": [
    "import Gene_Panel_Data.gene_panel_data as gpd"
   ]
  },
  {
   "cell_type": "code",
   "execution_count": 12,
   "metadata": {},
   "outputs": [],
   "source": [
    "test1a = gpd.fetch_gene_panel_data(molecular_profile_ids=[\"brca_tcga_gistic\", \"acc_tcga_gistic\", \"brca_tcga_mutations\"])\n",
    "\n",
    "molecular_prof_sample_ids = [\n",
    "  {\"molecular_profile_id\": \"brca_tcga_gistic\",  \"sample_ids\": [\"TCGA-AR-A1AR-01\", \"TCGA-E2-A1BC-01\"]},\n",
    "  {\"molecular_profile_id\": \"brca_tcga_mutations\", \"sample_ids\": [\"TCGA-AR-A1AR-01\", \"TCGA-E2-A1BC-01\"]},\n",
    "  {\"molecular_profile_id\": \"msk_met_2021_mutations\", \"sample_ids\": [\"P-0000004-T01-IM3\", \"P-0000950-T01-IM3\"]}\n",
    "]\n",
    "test1b = gpd.fetch_gene_panel_data(molecular_prof_sample_ids=molecular_prof_sample_ids)"
   ]
  },
  {
   "cell_type": "code",
   "execution_count": 6,
   "metadata": {},
   "outputs": [],
   "source": [
    "test2a = gpd.get_gene_panel_data(\"brca_tcga_mutations\",sample_ids=[\"TCGA-AR-A1AR-01\", \"TCGA-E2-A1BC-01\"])\n",
    "test2b = gpd.get_gene_panel_data(\"brca_tcga_mutations\", sample_list_id=\"brca_tcga_all\")"
   ]
  }
 ],
 "metadata": {
  "kernelspec": {
   "display_name": "python_tensorflow",
   "language": "python",
   "name": "python3"
  },
  "language_info": {
   "codemirror_mode": {
    "name": "ipython",
    "version": 3
   },
   "file_extension": ".py",
   "mimetype": "text/x-python",
   "name": "python",
   "nbconvert_exporter": "python",
   "pygments_lexer": "ipython3",
   "version": "3.10.12"
  }
 },
 "nbformat": 4,
 "nbformat_minor": 2
}
